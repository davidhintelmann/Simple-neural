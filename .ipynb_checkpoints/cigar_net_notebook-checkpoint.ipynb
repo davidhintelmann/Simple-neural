{
 "cells": [
  {
   "cell_type": "code",
   "execution_count": 1,
   "metadata": {},
   "outputs": [],
   "source": [
    "import pickle\n",
    "import numpy as np\n",
    "import matplotlib.pyplot as plt\n",
    "from PIL import Image\n",
    "import torch\n",
    "import torchvision\n",
    "import torchvision.transforms as transforms\n",
    "import torch.nn as nn\n",
    "import torch.nn.functional as F\n",
    "import torch.optim as optim\n",
    "from torch.utils.data import Dataset\n",
    "#import matplotlib.pyplot as plt\n",
    "#plt.rcParams[\"figure.figsize\"] = (1,1)\n",
    "\n",
    "%matplotlib inline"
   ]
  },
  {
   "cell_type": "code",
   "execution_count": 2,
   "metadata": {},
   "outputs": [],
   "source": [
    "def loadCifar(filename):\n",
    "    with open('data/cifar-10-batches-py/'+filename, 'rb') as file:\n",
    "        data = pickle.load(file, encoding='latin1')\n",
    "    feature = data['data']\n",
    "    label = data['labels']\n",
    "    return feature, label"
   ]
  },
  {
   "cell_type": "code",
   "execution_count": 3,
   "metadata": {},
   "outputs": [],
   "source": [
    "batch_1, labels_1 = loadCifar('data_batch_1')\n",
    "batch_2, labels_2 = loadCifar('data_batch_2')\n",
    "batch_3, labels_3 = loadCifar('data_batch_3')\n",
    "batch_4, labels_4 = loadCifar('data_batch_4')\n",
    "batch_5, labels_5 = loadCifar('data_batch_5')\n",
    "batch_test, labels_test = loadCifar('test_batch') \n",
    "\n",
    "features = np.concatenate([batch_1,batch_2,batch_3,batch_4,batch_5],0)\n",
    "labels_train = np.concatenate([labels_1,labels_2,labels_3,labels_4,labels_5],0)"
   ]
  },
  {
   "cell_type": "code",
   "execution_count": 4,
   "metadata": {},
   "outputs": [],
   "source": [
    "def shapeData(batch):\n",
    "    assert batch.shape[1] == 3072\n",
    "    r = batch[:, 0:1024].reshape(batch.shape[0], 1, 32, 32)\n",
    "    g = batch[:, 1024:2048].reshape(batch.shape[0], 1, 32, 32)\n",
    "    b = batch[:, 2048:3072].reshape(batch.shape[0], 1, 32, 32)\n",
    "    rgb = np.concatenate([r,g,b], axis=1)\n",
    "    return rgb"
   ]
  },
  {
   "cell_type": "code",
   "execution_count": 7,
   "metadata": {},
   "outputs": [
    {
     "data": {
      "text/plain": [
       "(50000, 3, 32, 32)"
      ]
     },
     "execution_count": 7,
     "metadata": {},
     "output_type": "execute_result"
    }
   ],
   "source": [
    "features_train.shape #fix"
   ]
  },
  {
   "cell_type": "code",
   "execution_count": 6,
   "metadata": {},
   "outputs": [],
   "source": [
    "features_train = shapeData(features)\n",
    "features_test = shapeData(batch_test)\n",
    "#labels_test = np.array(labels_test)\n",
    "\n",
    "#labels_train = torch.from_numpy(labels_train)"
   ]
  },
  {
   "cell_type": "code",
   "execution_count": 8,
   "metadata": {},
   "outputs": [
    {
     "data": {
      "image/png": "[encoded data removed]",
      "text/plain": [
       "<Figure size 216x216 with 1 Axes>"
      ]
     },
     "metadata": {
      "needs_background": "light"
     },
     "output_type": "display_data"
    }
   ],
   "source": [
    "plt.figure(figsize=(3,3))\n",
    "a = np.transpose(features_train[12],(1,2,0))\n",
    "plt.imshow(a);"
   ]
  },
  {
   "cell_type": "code",
   "execution_count": 68,
   "metadata": {},
   "outputs": [
    {
     "name": "stdout",
     "output_type": "stream",
     "text": [
      "Files already downloaded and verified\n",
      "Files already downloaded and verified\n"
     ]
    }
   ],
   "source": [
    "transform = transforms.Compose([transforms.ToTensor(),transforms.Normalize((0.5, 0.5, 0.5), (0.5, 0.5, 0.5))])\n",
    "\n",
    "trainset = torchvision.datasets.CIFAR10(root='./data', train=True, download=True, transform=transform)\n",
    "trainloader = torch.utils.data.DataLoader(trainset, batch_size=4, shuffle=True, num_workers=2)\n",
    "\n",
    "testset = torchvision.datasets.CIFAR10(root='./data', train=False, download=True, transform=transform)\n",
    "testloader = torch.utils.data.DataLoader(testset, batch_size=4, shuffle=False, num_workers=2)\n",
    "\n",
    "classes = ('plane', 'car', 'bird', 'cat',\n",
    "           'deer', 'dog', 'frog', 'horse', 'ship', 'truck')"
   ]
  },
  {
   "cell_type": "code",
   "execution_count": null,
   "metadata": {},
   "outputs": [],
   "source": [
    "import matplotlib.pyplot as plt\n",
    "import numpy as np\n",
    "\n",
    "# functions to show an image\n",
    "\n",
    "\n",
    "def imshow(img):\n",
    "    img = img / 2 + 0.5     # unnormalize\n",
    "    npimg = img.numpy()\n",
    "    plt.imshow(np.transpose(npimg, (1, 2, 0)))\n",
    "    plt.show()\n",
    "\n",
    "\n",
    "# get some random training images\n",
    "dataiter = iter(trainloader)\n",
    "images, labels = dataiter.next()\n",
    "\n",
    "# show images\n",
    "imshow(torchvision.utils.make_grid(images))\n",
    "# print labels\n",
    "print(' '.join('%5s' % classes[labels[j]] for j in range(4)))"
   ]
  },
  {
   "cell_type": "code",
   "execution_count": null,
   "metadata": {},
   "outputs": [],
   "source": [
    "import matplotlib.pyplot as plt\n",
    "import numpy as np\n",
    "\n",
    "# functions to show an image\n",
    "\n",
    "\n",
    "def imshow(img):\n",
    "    img = img / 2 + 0.5     # unnormalize\n",
    "    npimg = img.numpy()\n",
    "    plt.imshow(np.transpose(npimg, (1, 2, 0)))\n",
    "    plt.show()\n",
    "\n",
    "\n",
    "# get some random training images\n",
    "dataiter = iter(trainloader)\n",
    "images, labels = dataiter.next()\n",
    "\n",
    "# show images\n",
    "imshow(torchvision.utils.make_grid(images))\n",
    "# print labels\n",
    "print(' '.join('%5s' % classes[labels[j]] for j in range(4)))"
   ]
  },
  {
   "cell_type": "code",
   "execution_count": null,
   "metadata": {},
   "outputs": [],
   "source": []
  },
  {
   "cell_type": "code",
   "execution_count": 90,
   "metadata": {},
   "outputs": [],
   "source": [
    "class CIFARarray(Dataset): \n",
    "    def __init__(self, data, label, transform=None):\n",
    "        self.data = data\n",
    "        self.label = label\n",
    "        self.transform = transform\n",
    "        self.img_shape = data.shape\n",
    "        \n",
    "    def __getitem__(self, index):\n",
    "        img = Image.fromarray(np.transpose(self.data[index]))\n",
    "        label = self.label[index]\n",
    "        if self.transform is not None:\n",
    "            img = self.transform(img)\n",
    "        else:\n",
    "            img_to_tensor = transforms.ToTensor()\n",
    "            img = img_to_tensor(img)\n",
    "        return img, label\n",
    "        \n",
    "    def __len__(self):\n",
    "        return len(self.data)\n",
    "    \n",
    "    def plot_image(self, number):\n",
    "        file = self.data\n",
    "        label = self.label\n",
    "        fig = plt.figure(figsize = (3,2))\n",
    "        plt.imshow(file[number])\n",
    "        plt.title(classes[label[number]])"
   ]
  },
  {
   "cell_type": "code",
   "execution_count": 98,
   "metadata": {},
   "outputs": [],
   "source": [
    "transform_train = transforms.Compose([transforms.ToTensor(),transforms.Normalize((0.5,0.5,0.5),(0.5,0.5,0.5))])\n",
    "\n",
    "#features_train = torch.Tensor(features_train)\n",
    "#labels_train = torch.Tensor(labels_train)\n",
    "trainload = CIFARarray(features_train,labels_train.tolist(),transform_train)\n",
    "trainloade = torch.utils.data.DataLoader(trainload, batch_size=4, shuffle=True, num_workers=0)\n",
    "\n",
    "testload = CIFARarray(features_test,labels_test,transform_train)\n",
    "testloade = torch.utils.data.DataLoader(testload, batch_size=4, shuffle=True, num_workers=0)"
   ]
  },
  {
   "cell_type": "code",
   "execution_count": 92,
   "metadata": {},
   "outputs": [],
   "source": [
    "class Net(nn.Module):\n",
    "    def __init__(self):\n",
    "        super(Net, self).__init__()\n",
    "        self.conv1 = nn.Conv2d(3, 6, 5)\n",
    "        self.pool = nn.MaxPool2d(2, 2)\n",
    "        self.conv2 = nn.Conv2d(6, 16, 5)\n",
    "        self.fc1 = nn.Linear(16 * 5 * 5, 120)\n",
    "        self.fc2 = nn.Linear(120, 84)\n",
    "        self.fc3 = nn.Linear(84, 10)\n",
    "\n",
    "    def forward(self, x):\n",
    "        x = self.pool(F.relu(self.conv1(x)))\n",
    "        x = self.pool(F.relu(self.conv2(x)))\n",
    "        x = x.view(-1, 16 * 5 * 5)\n",
    "        x = F.relu(self.fc1(x))\n",
    "        x = F.relu(self.fc2(x))\n",
    "        x = self.fc3(x)\n",
    "        return x"
   ]
  },
  {
   "cell_type": "code",
   "execution_count": null,
   "metadata": {},
   "outputs": [],
   "source": [
    "class SimpleNet(nn.Module):\n",
    "    def __init__(self, num_classes=10):\n",
    "        super(SimpleNet, self).__init__()\n",
    "        self.conv1 = nn.Conv2d(in_channels=3, out_channels=12, kernel_size=3, stride=1, padding=1)\n",
    "        self.relu1 = nn.ReLU()\n",
    "        self.conv2 = nn.Conv2d(in_channels=12, out_channels=12, kernel_size=3, stride=1, padding=1)\n",
    "        self.relu2 = nn.ReLU()\n",
    "        self.pool = nn.MaxPool2d(kernel_size=2)\n",
    "        self.conv3 = nn.Conv2d(in_channels=12, out_channels=24, kernel_size=3, stride=1, padding=1)\n",
    "        self.relu3 = nn.ReLU()\n",
    "        self.conv4 = nn.Conv2d(in_channels=24, out_channels=24, kernel_size=3, stride=1, padding=1)\n",
    "        self.relu4 = nn.ReLU()\n",
    "        self.fc = nn.Linear(in_features=16 * 16 * 24, out_features=num_classes)\n",
    "\n",
    "    def forward(self, input):\n",
    "        output = self.conv1(input)\n",
    "        output = self.relu1(output)\n",
    "        output = self.conv2(output)\n",
    "        output = self.relu2(output)\n",
    "        output = self.pool(output)\n",
    "        output = self.conv3(output)\n",
    "        output = self.relu3(output)\n",
    "        output = self.conv4(output)\n",
    "        output = self.relu4(output)\n",
    "        output = output.view(-1, 16 * 16 * 24)\n",
    "        output = self.fc(output)\n",
    "        return output"
   ]
  },
  {
   "cell_type": "code",
   "execution_count": 93,
   "metadata": {},
   "outputs": [],
   "source": [
    "net = Net()\n",
    "criterion = nn.CrossEntropyLoss()\n",
    "optimizer = optim.SGD(net.parameters(), lr=0.001, momentum=0.9)"
   ]
  },
  {
   "cell_type": "code",
   "execution_count": null,
   "metadata": {},
   "outputs": [],
   "source": [
    "netty = SimpleNet()"
   ]
  },
  {
   "cell_type": "markdown",
   "metadata": {},
   "source": [
    "Training the network below:"
   ]
  },
  {
   "cell_type": "code",
   "execution_count": 315,
   "metadata": {},
   "outputs": [],
   "source": [
    "from PIL import Image\n",
    "a = Image.fromarray(np.transpose(features_train[12],(1,2,0)))\n",
    "#plt.imshow(a)"
   ]
  },
  {
   "cell_type": "code",
   "execution_count": 560,
   "metadata": {},
   "outputs": [],
   "source": [
    "img, label = iter(tmp).next()"
   ]
  },
  {
   "cell_type": "code",
   "execution_count": 561,
   "metadata": {},
   "outputs": [
    {
     "data": {
      "text/plain": [
       "'torch.LongTensor'"
      ]
     },
     "execution_count": 561,
     "metadata": {},
     "output_type": "execute_result"
    }
   ],
   "source": [
    "label[0].type()"
   ]
  },
  {
   "cell_type": "code",
   "execution_count": 101,
   "metadata": {},
   "outputs": [
    {
     "name": "stdout",
     "output_type": "stream",
     "text": [
      "[1,  2000] loss: 1.246\n",
      "[1,  4000] loss: 1.206\n",
      "[1,  6000] loss: 1.199\n",
      "[1,  8000] loss: 1.208\n",
      "[1, 10000] loss: 1.191\n",
      "[1, 12000] loss: 1.201\n",
      "[2,  2000] loss: 1.111\n",
      "[2,  4000] loss: 1.129\n",
      "[2,  6000] loss: 1.118\n",
      "[2,  8000] loss: 1.126\n",
      "[2, 10000] loss: 1.117\n",
      "[2, 12000] loss: 1.122\n",
      "[3,  2000] loss: 1.032\n",
      "[3,  4000] loss: 1.063\n",
      "[3,  6000] loss: 1.059\n",
      "[3,  8000] loss: 1.042\n",
      "[3, 10000] loss: 1.058\n",
      "[3, 12000] loss: 1.071\n",
      "[4,  2000] loss: 0.985\n",
      "[4,  4000] loss: 0.990\n",
      "[4,  6000] loss: 1.010\n",
      "[4,  8000] loss: 1.017\n",
      "[4, 10000] loss: 1.006\n",
      "[4, 12000] loss: 1.002\n",
      "[5,  2000] loss: 0.922\n",
      "[5,  4000] loss: 0.971\n",
      "[5,  6000] loss: 0.943\n",
      "[5,  8000] loss: 0.960\n",
      "[5, 10000] loss: 0.969\n",
      "[5, 12000] loss: 0.967\n",
      "[6,  2000] loss: 0.888\n",
      "[6,  4000] loss: 0.896\n",
      "[6,  6000] loss: 0.926\n",
      "[6,  8000] loss: 0.916\n",
      "[6, 10000] loss: 0.965\n",
      "[6, 12000] loss: 0.938\n",
      "[7,  2000] loss: 0.846\n",
      "[7,  4000] loss: 0.852\n",
      "[7,  6000] loss: 0.888\n",
      "[7,  8000] loss: 0.898\n",
      "[7, 10000] loss: 0.905\n",
      "[7, 12000] loss: 0.939\n",
      "[8,  2000] loss: 0.803\n",
      "[8,  4000] loss: 0.839\n",
      "[8,  6000] loss: 0.869\n",
      "[8,  8000] loss: 0.879\n",
      "[8, 10000] loss: 0.886\n",
      "[8, 12000] loss: 0.889\n",
      "[9,  2000] loss: 0.773\n",
      "[9,  4000] loss: 0.815\n",
      "[9,  6000] loss: 0.822\n",
      "[9,  8000] loss: 0.840\n",
      "[9, 10000] loss: 0.876\n",
      "[9, 12000] loss: 0.851\n",
      "[10,  2000] loss: 0.756\n",
      "[10,  4000] loss: 0.807\n",
      "[10,  6000] loss: 0.801\n",
      "[10,  8000] loss: 0.836\n",
      "[10, 10000] loss: 0.818\n",
      "[10, 12000] loss: 0.842\n",
      "Finished Training\n"
     ]
    }
   ],
   "source": [
    "for epoch in range(2):\n",
    "    running_loss = 0.0\n",
    "    for i, data in enumerate(trainloade, 0):\n",
    "        img, label = data\n",
    "        # zero the parameter gradients\n",
    "        optimizer.zero_grad()\n",
    "\n",
    "        # forward + backward + optimize\n",
    "        outputs = net(img)\n",
    "        #print(outputs.type())\n",
    "        loss = criterion(outputs, label)\n",
    "        loss.backward()\n",
    "        optimizer.step()\n",
    "\n",
    "        # print statistics\n",
    "        running_loss += loss.item()\n",
    "        if i % 2000 == 1999:    # print every 2000 mini-batches\n",
    "            print('[%d, %5d] loss: %.3f' %\n",
    "                  (epoch + 1, i + 1, running_loss / 2000))\n",
    "            running_loss = 0.0\n",
    "\n",
    "print('Finished Training')"
   ]
  },
  {
   "cell_type": "markdown",
   "metadata": {},
   "source": [
    "Save the trained model:"
   ]
  },
  {
   "cell_type": "code",
   "execution_count": 102,
   "metadata": {},
   "outputs": [],
   "source": [
    "PATH = './cifar_net.pth'\n",
    "torch.save(net.state_dict(), PATH)"
   ]
  },
  {
   "cell_type": "markdown",
   "metadata": {},
   "source": [
    "Accuracy on the whole dataset:"
   ]
  },
  {
   "cell_type": "code",
   "execution_count": 103,
   "metadata": {},
   "outputs": [
    {
     "name": "stdout",
     "output_type": "stream",
     "text": [
      "Accuracy of the network on the 10000 test images: 60 %\n"
     ]
    }
   ],
   "source": [
    "correct = 0\n",
    "total = 0\n",
    "with torch.no_grad():\n",
    "    for data in testloade:\n",
    "        images, labels = data\n",
    "        outputs = net(images)\n",
    "        _, predicted = torch.max(outputs.data, 1)\n",
    "        total += labels.size(0)\n",
    "        correct += (predicted == labels).sum().item()\n",
    "\n",
    "print('Accuracy of the network on the 10000 test images: %d %%' % (\n",
    "    100 * correct / total))"
   ]
  },
  {
   "cell_type": "markdown",
   "metadata": {},
   "source": [
    "Accuracy for each class:"
   ]
  },
  {
   "cell_type": "code",
   "execution_count": 104,
   "metadata": {},
   "outputs": [
    {
     "name": "stdout",
     "output_type": "stream",
     "text": [
      "Accuracy of plane : 54 %\n",
      "Accuracy of   car : 75 %\n",
      "Accuracy of  bird : 44 %\n",
      "Accuracy of   cat : 38 %\n",
      "Accuracy of  deer : 62 %\n",
      "Accuracy of   dog : 56 %\n",
      "Accuracy of  frog : 63 %\n",
      "Accuracy of horse : 64 %\n",
      "Accuracy of  ship : 74 %\n",
      "Accuracy of truck : 69 %\n"
     ]
    }
   ],
   "source": [
    "class_correct = list(0. for i in range(10))\n",
    "class_total = list(0. for i in range(10))\n",
    "with torch.no_grad():\n",
    "    for data in testloade:\n",
    "        images, labels = data\n",
    "        outputs = net(images)\n",
    "        _, predicted = torch.max(outputs, 1)\n",
    "        c = (predicted == labels).squeeze()\n",
    "        for i in range(4):\n",
    "            label = labels[i]\n",
    "            class_correct[label] += c[i].item()\n",
    "            class_total[label] += 1\n",
    "\n",
    "\n",
    "for i in range(10):\n",
    "    print('Accuracy of %5s : %2d %%' % (\n",
    "        classes[i], 100 * class_correct[i] / class_total[i]))"
   ]
  },
  {
   "cell_type": "code",
   "execution_count": null,
   "metadata": {},
   "outputs": [],
   "source": []
  },
  {
   "cell_type": "markdown",
   "metadata": {},
   "source": [
    "Accuracy with Epoch 2 & simple network:\n",
    "\n",
    "Accuracy of the network on the 10000 test images: 53 %\n",
    "\n",
    "Accuracy of plane : 47 %  \n",
    "Accuracy of   car : 80 %  \n",
    "Accuracy of  bird : 37 %  \n",
    "Accuracy of   cat : 35 %  \n",
    "Accuracy of  deer : 53 %  \n",
    "Accuracy of   dog : 55 %  \n",
    "Accuracy of  frog : 48 %  \n",
    "Accuracy of horse : 55 %  \n",
    "Accuracy of  ship : 77 %  \n",
    "Accuracy of truck : 41 %  "
   ]
  },
  {
   "cell_type": "markdown",
   "metadata": {},
   "source": [
    "Accuracy with Epoch 10 & simple network:\n",
    "\n",
    "Accuracy of the network on the 10000 test images: 60 %  \n",
    "\n",
    "Accuracy of plane : 54 %  \n",
    "Accuracy of   car : 75 %  \n",
    "Accuracy of  bird : 44 %  \n",
    "Accuracy of   cat : 38 %  \n",
    "Accuracy of  deer : 62 %  \n",
    "Accuracy of   dog : 56 %  \n",
    "Accuracy of  frog : 63 %  \n",
    "Accuracy of horse : 64 %  \n",
    "Accuracy of  ship : 74 %  \n",
    "Accuracy of truck : 69 %  "
   ]
  },
  {
   "cell_type": "code",
   "execution_count": null,
   "metadata": {},
   "outputs": [],
   "source": []
  }
 ],
 "metadata": {
  "kernelspec": {
   "display_name": "Python [conda env:py382] *",
   "language": "python",
   "name": "conda-env-py382-py"
  },
  "language_info": {
   "codemirror_mode": {
    "name": "ipython",
    "version": 3
   },
   "file_extension": ".py",
   "mimetype": "text/x-python",
   "name": "python",
   "nbconvert_exporter": "python",
   "pygments_lexer": "ipython3",
   "version": "3.8.2"
  }
 },
 "nbformat": 4,
 "nbformat_minor": 4
}
